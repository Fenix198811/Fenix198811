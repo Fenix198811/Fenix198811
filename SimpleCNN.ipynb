{
  "nbformat": 4,
  "nbformat_minor": 0,
  "metadata": {
    "colab": {
      "provenance": [],
      "authorship_tag": "ABX9TyPCxox8PwIDngWtiF4Lv48t",
      "include_colab_link": true
    },
    "kernelspec": {
      "name": "python3",
      "display_name": "Python 3"
    },
    "language_info": {
      "name": "python"
    }
  },
  "cells": [
    {
      "cell_type": "markdown",
      "metadata": {
        "id": "view-in-github",
        "colab_type": "text"
      },
      "source": [
        "<a href=\"https://colab.research.google.com/github/Fenix198811/Fenix198811/blob/main/SimpleCNN.ipynb\" target=\"_parent\"><img src=\"https://colab.research.google.com/assets/colab-badge.svg\" alt=\"Open In Colab\"/></a>"
      ]
    },
    {
      "cell_type": "code",
      "execution_count": 1,
      "metadata": {
        "id": "Nlq57JCIKIcq"
      },
      "outputs": [],
      "source": [
        "import torch\n",
        "import torch.nn as nn\n",
        "import torch.nn.functional as F\n",
        "from torch.utils.data import DataLoader\n",
        "from torchvision import datasets, transforms\n",
        "from torchvision.utils import make_grid\n",
        "\n",
        "import numpy as np\n",
        "import pandas as pd\n",
        "from sklearn.metrics import confusion_matrix\n",
        "import matplotlib.pyplot as plt\n",
        "%matplotlib inline"
      ]
    },
    {
      "cell_type": "code",
      "source": [
        "# Convert MNIST Imange Files into a Tensor of 4-Dimension(num of image, num of batch, Height, Width)\n",
        "transform = transforms.ToTensor()"
      ],
      "metadata": {
        "id": "QhII4OEVL0Ei"
      },
      "execution_count": 2,
      "outputs": []
    },
    {
      "cell_type": "code",
      "source": [
        "# Train Data\n",
        "train_data = datasets.MNIST(root=\"/cnn_data\", train=True, download=True, transform=transform)\n"
      ],
      "metadata": {
        "colab": {
          "base_uri": "https://localhost:8080/"
        },
        "id": "ekCqao4xMM5B",
        "outputId": "ba7220c2-c507-4ceb-fcde-f046be7bccc5"
      },
      "execution_count": 3,
      "outputs": [
        {
          "output_type": "stream",
          "name": "stdout",
          "text": [
            "Downloading http://yann.lecun.com/exdb/mnist/train-images-idx3-ubyte.gz\n",
            "Failed to download (trying next):\n",
            "HTTP Error 403: Forbidden\n",
            "\n",
            "Downloading https://ossci-datasets.s3.amazonaws.com/mnist/train-images-idx3-ubyte.gz\n",
            "Downloading https://ossci-datasets.s3.amazonaws.com/mnist/train-images-idx3-ubyte.gz to /cnn_data/MNIST/raw/train-images-idx3-ubyte.gz\n"
          ]
        },
        {
          "output_type": "stream",
          "name": "stderr",
          "text": [
            "100%|██████████| 9912422/9912422 [00:01<00:00, 5231431.85it/s]\n"
          ]
        },
        {
          "output_type": "stream",
          "name": "stdout",
          "text": [
            "Extracting /cnn_data/MNIST/raw/train-images-idx3-ubyte.gz to /cnn_data/MNIST/raw\n",
            "\n",
            "Downloading http://yann.lecun.com/exdb/mnist/train-labels-idx1-ubyte.gz\n",
            "Failed to download (trying next):\n",
            "HTTP Error 403: Forbidden\n",
            "\n",
            "Downloading https://ossci-datasets.s3.amazonaws.com/mnist/train-labels-idx1-ubyte.gz\n",
            "Downloading https://ossci-datasets.s3.amazonaws.com/mnist/train-labels-idx1-ubyte.gz to /cnn_data/MNIST/raw/train-labels-idx1-ubyte.gz\n"
          ]
        },
        {
          "output_type": "stream",
          "name": "stderr",
          "text": [
            "100%|██████████| 28881/28881 [00:00<00:00, 154604.07it/s]\n"
          ]
        },
        {
          "output_type": "stream",
          "name": "stdout",
          "text": [
            "Extracting /cnn_data/MNIST/raw/train-labels-idx1-ubyte.gz to /cnn_data/MNIST/raw\n",
            "\n",
            "Downloading http://yann.lecun.com/exdb/mnist/t10k-images-idx3-ubyte.gz\n",
            "Failed to download (trying next):\n",
            "HTTP Error 403: Forbidden\n",
            "\n",
            "Downloading https://ossci-datasets.s3.amazonaws.com/mnist/t10k-images-idx3-ubyte.gz\n",
            "Downloading https://ossci-datasets.s3.amazonaws.com/mnist/t10k-images-idx3-ubyte.gz to /cnn_data/MNIST/raw/t10k-images-idx3-ubyte.gz\n"
          ]
        },
        {
          "output_type": "stream",
          "name": "stderr",
          "text": [
            "100%|██████████| 1648877/1648877 [00:01<00:00, 1449436.36it/s]\n"
          ]
        },
        {
          "output_type": "stream",
          "name": "stdout",
          "text": [
            "Extracting /cnn_data/MNIST/raw/t10k-images-idx3-ubyte.gz to /cnn_data/MNIST/raw\n",
            "\n",
            "Downloading http://yann.lecun.com/exdb/mnist/t10k-labels-idx1-ubyte.gz\n",
            "Failed to download (trying next):\n",
            "HTTP Error 403: Forbidden\n",
            "\n",
            "Downloading https://ossci-datasets.s3.amazonaws.com/mnist/t10k-labels-idx1-ubyte.gz\n",
            "Downloading https://ossci-datasets.s3.amazonaws.com/mnist/t10k-labels-idx1-ubyte.gz to /cnn_data/MNIST/raw/t10k-labels-idx1-ubyte.gz\n"
          ]
        },
        {
          "output_type": "stream",
          "name": "stderr",
          "text": [
            "100%|██████████| 4542/4542 [00:00<00:00, 9088992.73it/s]"
          ]
        },
        {
          "output_type": "stream",
          "name": "stdout",
          "text": [
            "Extracting /cnn_data/MNIST/raw/t10k-labels-idx1-ubyte.gz to /cnn_data/MNIST/raw\n",
            "\n"
          ]
        },
        {
          "output_type": "stream",
          "name": "stderr",
          "text": [
            "\n"
          ]
        }
      ]
    },
    {
      "cell_type": "code",
      "source": [
        "# Test Data\n",
        "test_data = datasets.MNIST(root=\"/cnn_data\", train=False, download=True, transform=transform)"
      ],
      "metadata": {
        "id": "EJMtrLSBMtXa"
      },
      "execution_count": 4,
      "outputs": []
    },
    {
      "cell_type": "code",
      "source": [
        "train_data"
      ],
      "metadata": {
        "colab": {
          "base_uri": "https://localhost:8080/"
        },
        "id": "qWfIm3qzNN5R",
        "outputId": "19b01782-2a05-4c08-e2c6-5e41f8e017d9"
      },
      "execution_count": 5,
      "outputs": [
        {
          "output_type": "execute_result",
          "data": {
            "text/plain": [
              "Dataset MNIST\n",
              "    Number of datapoints: 60000\n",
              "    Root location: /cnn_data\n",
              "    Split: Train\n",
              "    StandardTransform\n",
              "Transform: ToTensor()"
            ]
          },
          "metadata": {},
          "execution_count": 5
        }
      ]
    },
    {
      "cell_type": "code",
      "source": [
        "test_data"
      ],
      "metadata": {
        "colab": {
          "base_uri": "https://localhost:8080/"
        },
        "id": "tP5WlpxsNTMp",
        "outputId": "2b7ba26a-9f18-4d6b-c82c-13dd31279fa7"
      },
      "execution_count": 6,
      "outputs": [
        {
          "output_type": "execute_result",
          "data": {
            "text/plain": [
              "Dataset MNIST\n",
              "    Number of datapoints: 10000\n",
              "    Root location: /cnn_data\n",
              "    Split: Test\n",
              "    StandardTransform\n",
              "Transform: ToTensor()"
            ]
          },
          "metadata": {},
          "execution_count": 6
        }
      ]
    },
    {
      "cell_type": "code",
      "source": [
        "ls"
      ],
      "metadata": {
        "colab": {
          "base_uri": "https://localhost:8080/"
        },
        "id": "Ei6D6rUgNVp5",
        "outputId": "2f6aad61-4ded-4f93-efef-838babc662fb"
      },
      "execution_count": 7,
      "outputs": [
        {
          "output_type": "stream",
          "name": "stdout",
          "text": [
            "\u001b[0m\u001b[01;34msample_data\u001b[0m/\n"
          ]
        }
      ]
    },
    {
      "cell_type": "code",
      "source": [
        "ls /cnn_data"
      ],
      "metadata": {
        "colab": {
          "base_uri": "https://localhost:8080/"
        },
        "id": "lN_NADzSNcBo",
        "outputId": "f249e304-5bb2-4ee7-a323-cc08515e6ce3"
      },
      "execution_count": 8,
      "outputs": [
        {
          "output_type": "stream",
          "name": "stdout",
          "text": [
            "\u001b[0m\u001b[01;34mMNIST\u001b[0m/\n"
          ]
        }
      ]
    },
    {
      "cell_type": "code",
      "source": [
        "# Create a small batch of size for images   10\n",
        "train_loader = DataLoader(train_data, batch_size=10, shuffle=True)\n",
        "test_loader = DataLoader(test_data, batch_size=10, shuffle=False)"
      ],
      "metadata": {
        "id": "rpPi2qvZNfBw"
      },
      "execution_count": 9,
      "outputs": []
    },
    {
      "cell_type": "code",
      "source": [
        "#Define Our CNN Model\n",
        "# 2 CNN layers,\n",
        "class CNN(nn.Module):\n",
        "  def __init__(self):\n",
        "    super().__init__()\n",
        "    self.seq1 = nn.Sequential(\n",
        "      nn.Conv2d(1, 6, 3, 1),\n",
        "      nn.ReLU(),\n",
        "      nn.MaxPool2d(kernel_size=2, stride=2)\n",
        "    )\n",
        "    self.seq2 = nn.Sequential(\n",
        "      nn.Conv2d(6, 16, 3, 1),\n",
        "      nn.ReLU(),\n",
        "      nn.MaxPool2d(kernel_size=2, stride=2)\n",
        "    )\n",
        "    # Fully connected layer\n",
        "    self.seq3 = nn.Sequential(\n",
        "      nn.Linear(5*5*16, 120),\n",
        "      nn.ReLU(),\n",
        "      nn.Linear(120, 84),\n",
        "      nn.ReLU(),\n",
        "      nn.Linear(84, 10),\n",
        "      nn.LogSoftmax(dim=1)\n",
        "    )\n",
        "\n",
        "    self.seq = nn.Sequential(\n",
        "      self.seq1,\n",
        "      self.seq2,\n",
        "      nn.Flatten(),\n",
        "      self.seq3\n",
        "    )\n",
        "\n",
        "  def forward(self, X):\n",
        "    X = self.seq(X)\n",
        "    return X"
      ],
      "metadata": {
        "id": "S0qe1FWzOmlp"
      },
      "execution_count": 41,
      "outputs": []
    },
    {
      "cell_type": "code",
      "source": [
        "# Create an Instance of our model\n",
        "torch.manual_seed(68)\n",
        "model = CNN()\n",
        "model"
      ],
      "metadata": {
        "colab": {
          "base_uri": "https://localhost:8080/"
        },
        "id": "RITG_oDYlztm",
        "outputId": "31d6a427-2d0b-449c-c3a9-b3daeffdc44a"
      },
      "execution_count": 42,
      "outputs": [
        {
          "output_type": "execute_result",
          "data": {
            "text/plain": [
              "CNN(\n",
              "  (seq1): Sequential(\n",
              "    (0): Conv2d(1, 6, kernel_size=(3, 3), stride=(1, 1))\n",
              "    (1): ReLU()\n",
              "    (2): MaxPool2d(kernel_size=2, stride=2, padding=0, dilation=1, ceil_mode=False)\n",
              "  )\n",
              "  (seq2): Sequential(\n",
              "    (0): Conv2d(6, 16, kernel_size=(3, 3), stride=(1, 1))\n",
              "    (1): ReLU()\n",
              "    (2): MaxPool2d(kernel_size=2, stride=2, padding=0, dilation=1, ceil_mode=False)\n",
              "  )\n",
              "  (seq3): Sequential(\n",
              "    (0): Linear(in_features=400, out_features=120, bias=True)\n",
              "    (1): ReLU()\n",
              "    (2): Linear(in_features=120, out_features=84, bias=True)\n",
              "    (3): ReLU()\n",
              "    (4): Linear(in_features=84, out_features=10, bias=True)\n",
              "    (5): LogSoftmax(dim=1)\n",
              "  )\n",
              "  (seq): Sequential(\n",
              "    (0): Sequential(\n",
              "      (0): Conv2d(1, 6, kernel_size=(3, 3), stride=(1, 1))\n",
              "      (1): ReLU()\n",
              "      (2): MaxPool2d(kernel_size=2, stride=2, padding=0, dilation=1, ceil_mode=False)\n",
              "    )\n",
              "    (1): Sequential(\n",
              "      (0): Conv2d(6, 16, kernel_size=(3, 3), stride=(1, 1))\n",
              "      (1): ReLU()\n",
              "      (2): MaxPool2d(kernel_size=2, stride=2, padding=0, dilation=1, ceil_mode=False)\n",
              "    )\n",
              "    (2): Flatten(start_dim=1, end_dim=-1)\n",
              "    (3): Sequential(\n",
              "      (0): Linear(in_features=400, out_features=120, bias=True)\n",
              "      (1): ReLU()\n",
              "      (2): Linear(in_features=120, out_features=84, bias=True)\n",
              "      (3): ReLU()\n",
              "      (4): Linear(in_features=84, out_features=10, bias=True)\n",
              "      (5): LogSoftmax(dim=1)\n",
              "    )\n",
              "  )\n",
              ")"
            ]
          },
          "metadata": {},
          "execution_count": 42
        }
      ]
    },
    {
      "cell_type": "code",
      "source": [
        "# Loss Function Optimizer\n",
        "criterion = nn.CrossEntropyLoss()\n",
        "optimizer = torch.optim.Adam(model.parameters(), lr=0.001)\n"
      ],
      "metadata": {
        "id": "a-ABL6iqnut1"
      },
      "execution_count": 43,
      "outputs": []
    },
    {
      "cell_type": "code",
      "source": [
        "import time\n",
        "start_time = time.time()\n",
        "\n",
        "# Create Vars\n",
        "epochs = 5\n",
        "train_losses = []\n",
        "test_losses = []\n",
        "train_correct = []\n",
        "test_correct = []\n",
        "\n",
        "# For loop of Epochs\n",
        "for i in range(epochs):\n",
        "  train_corr = 0\n",
        "  test_corr = 0\n",
        "\n",
        "  # Train\n",
        "  for b, (X_train, y_train) in enumerate(train_loader):\n",
        "    b+=1\n",
        "    y_pred = model(X_train) # get predicated values from the training set batch\n",
        "    loss = criterion(y_pred, y_train)\n",
        "\n",
        "    predicated = torch.max(y_pred.data, 1)[1] # add up the number of correct predictions,\n",
        "    batch_corr = (predicated == y_train).sum() # how many we got correct from this batch\n",
        "    train_corr += batch_corr\n",
        "\n",
        "    # Update parameters\n",
        "    optimizer.zero_grad()\n",
        "    loss.backward()\n",
        "    optimizer.step()\n",
        "\n",
        "    # print out some results\n",
        "    if b%600 == 0:\n",
        "      print(f\"Epoch: {i}, Batch: {b}, Loss: {loss.item()}\")\n",
        "\n",
        "  train_losses.append(loss)\n",
        "  train_correct.append(train_corr)\n",
        "\n",
        "  # Test\n",
        "  with torch.no_grad():\n",
        "    for b, (X_test, y_test) in enumerate(test_loader):\n",
        "      y_val = model(X_test)\n",
        "      predicated = torch.max(y_val.data, 1)[1]\n",
        "      test_corr += (predicated == y_test).sum()\n",
        "\n",
        "  loss = criterion(y_val, y_test)\n",
        "  test_losses.append(loss)\n",
        "  test_correct.append(test_corr)\n",
        "\n",
        "end_time = time.time()\n",
        "total_time = end_time - start_time\n",
        "print(f\"Training took: {total_time/60} minutes\")"
      ],
      "metadata": {
        "colab": {
          "base_uri": "https://localhost:8080/"
        },
        "id": "ws9Lxpbzodyt",
        "outputId": "99dfd56e-dc64-49a5-d736-df3abdb171a3"
      },
      "execution_count": 44,
      "outputs": [
        {
          "output_type": "stream",
          "name": "stdout",
          "text": [
            "Epoch: 0, Batch: 600, Loss: 0.17682988941669464\n",
            "Epoch: 0, Batch: 1200, Loss: 0.18436872959136963\n",
            "Epoch: 0, Batch: 1800, Loss: 0.3749023973941803\n",
            "Epoch: 0, Batch: 2400, Loss: 0.5074084401130676\n",
            "Epoch: 0, Batch: 3000, Loss: 0.032824285328388214\n",
            "Epoch: 0, Batch: 3600, Loss: 0.22680477797985077\n",
            "Epoch: 0, Batch: 4200, Loss: 0.020403796806931496\n",
            "Epoch: 0, Batch: 4800, Loss: 0.006631325930356979\n",
            "Epoch: 0, Batch: 5400, Loss: 0.0018949664663523436\n",
            "Epoch: 0, Batch: 6000, Loss: 0.008881835266947746\n",
            "Epoch: 1, Batch: 600, Loss: 0.005394080653786659\n",
            "Epoch: 1, Batch: 1200, Loss: 0.0028350783977657557\n",
            "Epoch: 1, Batch: 1800, Loss: 0.02368948422372341\n",
            "Epoch: 1, Batch: 2400, Loss: 0.40532928705215454\n",
            "Epoch: 1, Batch: 3000, Loss: 0.0012125405482947826\n",
            "Epoch: 1, Batch: 3600, Loss: 0.01690104976296425\n",
            "Epoch: 1, Batch: 4200, Loss: 0.016639549285173416\n",
            "Epoch: 1, Batch: 4800, Loss: 0.016239095479249954\n",
            "Epoch: 1, Batch: 5400, Loss: 0.0005746050737798214\n",
            "Epoch: 1, Batch: 6000, Loss: 0.006660012062638998\n",
            "Epoch: 2, Batch: 600, Loss: 0.00196360656991601\n",
            "Epoch: 2, Batch: 1200, Loss: 0.09611278027296066\n",
            "Epoch: 2, Batch: 1800, Loss: 0.009283823892474174\n",
            "Epoch: 2, Batch: 2400, Loss: 0.00047391498810611665\n",
            "Epoch: 2, Batch: 3000, Loss: 0.013122394680976868\n",
            "Epoch: 2, Batch: 3600, Loss: 0.004319429863244295\n",
            "Epoch: 2, Batch: 4200, Loss: 0.3880598247051239\n",
            "Epoch: 2, Batch: 4800, Loss: 0.010271319188177586\n",
            "Epoch: 2, Batch: 5400, Loss: 0.9794539213180542\n",
            "Epoch: 2, Batch: 6000, Loss: 0.011015648953616619\n",
            "Epoch: 3, Batch: 600, Loss: 0.003548711072653532\n",
            "Epoch: 3, Batch: 1200, Loss: 0.002158110262826085\n",
            "Epoch: 3, Batch: 1800, Loss: 0.005314619280397892\n",
            "Epoch: 3, Batch: 2400, Loss: 0.024385664612054825\n",
            "Epoch: 3, Batch: 3000, Loss: 0.0008104268345050514\n",
            "Epoch: 3, Batch: 3600, Loss: 0.013489769771695137\n",
            "Epoch: 3, Batch: 4200, Loss: 1.5446431636810303\n",
            "Epoch: 3, Batch: 4800, Loss: 0.1789107620716095\n",
            "Epoch: 3, Batch: 5400, Loss: 0.005415826570242643\n",
            "Epoch: 3, Batch: 6000, Loss: 0.004082982428371906\n",
            "Epoch: 4, Batch: 600, Loss: 0.00300207850523293\n",
            "Epoch: 4, Batch: 1200, Loss: 0.00041867216350510716\n",
            "Epoch: 4, Batch: 1800, Loss: 0.00538360420614481\n",
            "Epoch: 4, Batch: 2400, Loss: 0.0007770824595354497\n",
            "Epoch: 4, Batch: 3000, Loss: 0.00018001376884058118\n",
            "Epoch: 4, Batch: 3600, Loss: 0.23517906665802002\n",
            "Epoch: 4, Batch: 4200, Loss: 2.2731790522811934e-05\n",
            "Epoch: 4, Batch: 4800, Loss: 0.0020522428676486015\n",
            "Epoch: 4, Batch: 5400, Loss: 0.01929672434926033\n",
            "Epoch: 4, Batch: 6000, Loss: 0.0020513476338237524\n",
            "Training took: 3.2538268407185873 minutes\n"
          ]
        }
      ]
    }
  ]
}