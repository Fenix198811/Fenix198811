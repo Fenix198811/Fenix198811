{
  "nbformat": 4,
  "nbformat_minor": 0,
  "metadata": {
    "colab": {
      "provenance": [],
      "authorship_tag": "ABX9TyNzFXb7PM/N7BnrTmzErOq9",
      "include_colab_link": true
    },
    "kernelspec": {
      "name": "python3",
      "display_name": "Python 3"
    },
    "language_info": {
      "name": "python"
    }
  },
  "cells": [
    {
      "cell_type": "markdown",
      "metadata": {
        "id": "view-in-github",
        "colab_type": "text"
      },
      "source": [
        "<a href=\"https://colab.research.google.com/github/Fenix198811/Fenix198811/blob/main/PytorchStudyTensor1.ipynb\" target=\"_parent\"><img src=\"https://colab.research.google.com/assets/colab-badge.svg\" alt=\"Open In Colab\"/></a>"
      ]
    },
    {
      "cell_type": "markdown",
      "source": [
        "Tensor Tests"
      ],
      "metadata": {
        "id": "nyKXWIIKfegT"
      }
    },
    {
      "cell_type": "code",
      "execution_count": 2,
      "metadata": {
        "colab": {
          "base_uri": "https://localhost:8080/"
        },
        "id": "uG6UMnUCSvqB",
        "outputId": "efa7d1de-6fac-4654-cee9-9ce28f3dd006"
      },
      "outputs": [
        {
          "output_type": "stream",
          "name": "stdout",
          "text": [
            "tensor([[ 1.2139, -0.1825, -0.2528, -0.2290],\n",
            "        [-2.1822,  0.7836, -0.2079, -0.3317],\n",
            "        [ 0.5846, -0.9258, -1.5416,  1.9098]])\n",
            "tensor([[[-0.4575,  1.1039, -1.2311, -1.2851,  0.8914],\n",
            "         [ 0.1952,  0.8235, -0.0274,  1.1303, -0.2248],\n",
            "         [-0.2503, -1.6917,  0.0516,  0.8665,  2.3058],\n",
            "         [ 0.5913, -0.3522, -1.6390, -0.9362, -1.6152]],\n",
            "\n",
            "        [[ 0.3430,  0.9391, -0.5505,  1.2215,  0.1789],\n",
            "         [ 1.5276, -0.1680,  0.9462,  0.8432,  1.7019],\n",
            "         [ 0.6627, -0.6698,  0.7308, -0.6381,  0.8038],\n",
            "         [ 0.4316,  0.9912,  1.4473,  1.5581,  0.9303]],\n",
            "\n",
            "        [[-1.1616,  1.1971,  0.4721, -0.8346, -0.1843],\n",
            "         [-0.0249, -1.3957, -0.9641,  0.1196, -0.0146],\n",
            "         [-0.1009, -2.5401,  0.7723, -1.3248, -0.1457],\n",
            "         [-1.3005,  1.7827, -0.9298, -0.7277, -0.0661]]])\n"
          ]
        }
      ],
      "source": [
        "import torch\n",
        "\n",
        "tensor_2d = torch.randn(3,4)\n",
        "print(tensor_2d)\n",
        "\n",
        "tensor_3d = torch.randn(3,4,5)\n",
        "print(tensor_3d)"
      ]
    },
    {
      "cell_type": "code",
      "source": [
        "my_tensor = torch.arange(10)\n",
        "print(my_tensor)\n",
        "\n",
        "my_tensor = my_tensor.reshape(2,5)\n",
        "print(my_tensor)"
      ],
      "metadata": {
        "colab": {
          "base_uri": "https://localhost:8080/"
        },
        "id": "lA994-5oe0wj",
        "outputId": "e0723925-7bd7-4b20-c4ea-2b48dfdfed9d"
      },
      "execution_count": 4,
      "outputs": [
        {
          "output_type": "stream",
          "name": "stdout",
          "text": [
            "tensor([0, 1, 2, 3, 4, 5, 6, 7, 8, 9])\n",
            "tensor([[0, 1, 2, 3, 4],\n",
            "        [5, 6, 7, 8, 9]])\n"
          ]
        }
      ]
    },
    {
      "cell_type": "code",
      "source": [
        "my_tensor2 = torch.arange(10)\n",
        "print(my_tensor2)\n",
        "my_tensor2 = my_tensor2.reshape(2, -1)\n",
        "print(my_tensor2)\n",
        "\n",
        "v = my_tensor2[:,1]\n",
        "print(v)\n",
        "\n",
        "v2 = my_tensor2[:,1:]\n",
        "print(v2)"
      ],
      "metadata": {
        "colab": {
          "base_uri": "https://localhost:8080/"
        },
        "id": "D6mgVDQ0hNzM",
        "outputId": "c0bd502c-7aa5-4674-d0fe-ef9a4bc086cb"
      },
      "execution_count": 9,
      "outputs": [
        {
          "output_type": "stream",
          "name": "stdout",
          "text": [
            "tensor([0, 1, 2, 3, 4, 5, 6, 7, 8, 9])\n",
            "tensor([[0, 1, 2, 3, 4],\n",
            "        [5, 6, 7, 8, 9]])\n",
            "tensor([1, 6])\n",
            "tensor([[1, 2, 3, 4],\n",
            "        [6, 7, 8, 9]])\n"
          ]
        }
      ]
    },
    {
      "cell_type": "code",
      "source": [],
      "metadata": {
        "id": "7IOJq7BwjOxL"
      },
      "execution_count": null,
      "outputs": []
    },
    {
      "cell_type": "code",
      "source": [],
      "metadata": {
        "id": "9Ny26ltljqct"
      },
      "execution_count": null,
      "outputs": []
    }
  ]
}